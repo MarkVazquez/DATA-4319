{
 "cells": [
  {
   "cell_type": "markdown",
   "metadata": {},
   "source": [
    "### Multi-Layer Perceptron using Iris DataSet"
   ]
  },
  {
   "cell_type": "markdown",
   "metadata": {},
   "source": [
    "<img src=\"Images/iris-machinelearning.png\" width=\"600\" height=\"300\" />\n"
   ]
  },
  {
   "cell_type": "code",
   "execution_count": 3,
   "metadata": {},
   "outputs": [
    {
     "data": {
      "text/html": [
       "<table class=\"data-frame\"><thead><tr><th></th><th>SepalLength</th><th>SepalWidth</th><th>PetalLength</th><th>PetalWidth</th><th>Species</th></tr><tr><th></th><th>Float64</th><th>Float64</th><th>Float64</th><th>Float64</th><th>String</th></tr></thead><tbody><p>150 rows × 5 columns</p><tr><th>1</th><td>5.5</td><td>2.4</td><td>3.7</td><td>1.0</td><td>versicolor</td></tr><tr><th>2</th><td>6.5</td><td>3.0</td><td>5.8</td><td>2.2</td><td>virginica</td></tr><tr><th>3</th><td>6.2</td><td>2.8</td><td>4.8</td><td>1.8</td><td>virginica</td></tr><tr><th>4</th><td>6.7</td><td>3.3</td><td>5.7</td><td>2.5</td><td>virginica</td></tr><tr><th>5</th><td>6.5</td><td>3.0</td><td>5.2</td><td>2.0</td><td>virginica</td></tr><tr><th>6</th><td>5.8</td><td>4.0</td><td>1.2</td><td>0.2</td><td>setosa</td></tr><tr><th>7</th><td>6.8</td><td>2.8</td><td>4.8</td><td>1.4</td><td>versicolor</td></tr><tr><th>8</th><td>5.6</td><td>2.5</td><td>3.9</td><td>1.1</td><td>versicolor</td></tr><tr><th>9</th><td>5.8</td><td>2.6</td><td>4.0</td><td>1.2</td><td>versicolor</td></tr><tr><th>10</th><td>6.9</td><td>3.1</td><td>5.4</td><td>2.1</td><td>virginica</td></tr><tr><th>11</th><td>5.9</td><td>3.0</td><td>5.1</td><td>1.8</td><td>virginica</td></tr><tr><th>12</th><td>7.2</td><td>3.2</td><td>6.0</td><td>1.8</td><td>virginica</td></tr><tr><th>13</th><td>5.8</td><td>2.7</td><td>4.1</td><td>1.0</td><td>versicolor</td></tr><tr><th>14</th><td>5.4</td><td>3.9</td><td>1.3</td><td>0.4</td><td>setosa</td></tr><tr><th>15</th><td>6.1</td><td>2.8</td><td>4.0</td><td>1.3</td><td>versicolor</td></tr><tr><th>16</th><td>7.0</td><td>3.2</td><td>4.7</td><td>1.4</td><td>versicolor</td></tr><tr><th>17</th><td>5.4</td><td>3.4</td><td>1.7</td><td>0.2</td><td>setosa</td></tr><tr><th>18</th><td>6.6</td><td>2.9</td><td>4.6</td><td>1.3</td><td>versicolor</td></tr><tr><th>19</th><td>6.9</td><td>3.2</td><td>5.7</td><td>2.3</td><td>virginica</td></tr><tr><th>20</th><td>7.2</td><td>3.6</td><td>6.1</td><td>2.5</td><td>virginica</td></tr><tr><th>21</th><td>5.1</td><td>3.8</td><td>1.5</td><td>0.3</td><td>setosa</td></tr><tr><th>22</th><td>5.0</td><td>3.6</td><td>1.4</td><td>0.2</td><td>setosa</td></tr><tr><th>23</th><td>5.7</td><td>2.8</td><td>4.5</td><td>1.3</td><td>versicolor</td></tr><tr><th>24</th><td>4.8</td><td>3.4</td><td>1.6</td><td>0.2</td><td>setosa</td></tr><tr><th>25</th><td>6.6</td><td>3.0</td><td>4.4</td><td>1.4</td><td>versicolor</td></tr><tr><th>26</th><td>6.1</td><td>2.8</td><td>4.7</td><td>1.2</td><td>versicolor</td></tr><tr><th>27</th><td>5.5</td><td>2.4</td><td>3.8</td><td>1.1</td><td>versicolor</td></tr><tr><th>28</th><td>6.2</td><td>2.9</td><td>4.3</td><td>1.3</td><td>versicolor</td></tr><tr><th>29</th><td>5.2</td><td>4.1</td><td>1.5</td><td>0.1</td><td>setosa</td></tr><tr><th>30</th><td>5.7</td><td>2.8</td><td>4.1</td><td>1.3</td><td>versicolor</td></tr><tr><th>&vellip;</th><td>&vellip;</td><td>&vellip;</td><td>&vellip;</td><td>&vellip;</td><td>&vellip;</td></tr></tbody></table>"
      ],
      "text/latex": [
       "\\begin{tabular}{r|ccccc}\n",
       "\t& SepalLength & SepalWidth & PetalLength & PetalWidth & Species\\\\\n",
       "\t\\hline\n",
       "\t& Float64 & Float64 & Float64 & Float64 & String\\\\\n",
       "\t\\hline\n",
       "\t1 & 5.5 & 2.4 & 3.7 & 1.0 & versicolor \\\\\n",
       "\t2 & 6.5 & 3.0 & 5.8 & 2.2 & virginica \\\\\n",
       "\t3 & 6.2 & 2.8 & 4.8 & 1.8 & virginica \\\\\n",
       "\t4 & 6.7 & 3.3 & 5.7 & 2.5 & virginica \\\\\n",
       "\t5 & 6.5 & 3.0 & 5.2 & 2.0 & virginica \\\\\n",
       "\t6 & 5.8 & 4.0 & 1.2 & 0.2 & setosa \\\\\n",
       "\t7 & 6.8 & 2.8 & 4.8 & 1.4 & versicolor \\\\\n",
       "\t8 & 5.6 & 2.5 & 3.9 & 1.1 & versicolor \\\\\n",
       "\t9 & 5.8 & 2.6 & 4.0 & 1.2 & versicolor \\\\\n",
       "\t10 & 6.9 & 3.1 & 5.4 & 2.1 & virginica \\\\\n",
       "\t11 & 5.9 & 3.0 & 5.1 & 1.8 & virginica \\\\\n",
       "\t12 & 7.2 & 3.2 & 6.0 & 1.8 & virginica \\\\\n",
       "\t13 & 5.8 & 2.7 & 4.1 & 1.0 & versicolor \\\\\n",
       "\t14 & 5.4 & 3.9 & 1.3 & 0.4 & setosa \\\\\n",
       "\t15 & 6.1 & 2.8 & 4.0 & 1.3 & versicolor \\\\\n",
       "\t16 & 7.0 & 3.2 & 4.7 & 1.4 & versicolor \\\\\n",
       "\t17 & 5.4 & 3.4 & 1.7 & 0.2 & setosa \\\\\n",
       "\t18 & 6.6 & 2.9 & 4.6 & 1.3 & versicolor \\\\\n",
       "\t19 & 6.9 & 3.2 & 5.7 & 2.3 & virginica \\\\\n",
       "\t20 & 7.2 & 3.6 & 6.1 & 2.5 & virginica \\\\\n",
       "\t21 & 5.1 & 3.8 & 1.5 & 0.3 & setosa \\\\\n",
       "\t22 & 5.0 & 3.6 & 1.4 & 0.2 & setosa \\\\\n",
       "\t23 & 5.7 & 2.8 & 4.5 & 1.3 & versicolor \\\\\n",
       "\t24 & 4.8 & 3.4 & 1.6 & 0.2 & setosa \\\\\n",
       "\t25 & 6.6 & 3.0 & 4.4 & 1.4 & versicolor \\\\\n",
       "\t26 & 6.1 & 2.8 & 4.7 & 1.2 & versicolor \\\\\n",
       "\t27 & 5.5 & 2.4 & 3.8 & 1.1 & versicolor \\\\\n",
       "\t28 & 6.2 & 2.9 & 4.3 & 1.3 & versicolor \\\\\n",
       "\t29 & 5.2 & 4.1 & 1.5 & 0.1 & setosa \\\\\n",
       "\t30 & 5.7 & 2.8 & 4.1 & 1.3 & versicolor \\\\\n",
       "\t$\\dots$ & $\\dots$ & $\\dots$ & $\\dots$ & $\\dots$ & $\\dots$ \\\\\n",
       "\\end{tabular}\n"
      ],
      "text/plain": [
       "150×5 DataFrames.DataFrame\n",
       "│ Row │ SepalLength │ SepalWidth │ PetalLength │ PetalWidth │ Species    │\n",
       "│     │ \u001b[90mFloat64\u001b[39m     │ \u001b[90mFloat64\u001b[39m    │ \u001b[90mFloat64\u001b[39m     │ \u001b[90mFloat64\u001b[39m    │ \u001b[90mString\u001b[39m     │\n",
       "├─────┼─────────────┼────────────┼─────────────┼────────────┼────────────┤\n",
       "│ 1   │ 5.5         │ 2.4        │ 3.7         │ 1.0        │ versicolor │\n",
       "│ 2   │ 6.5         │ 3.0        │ 5.8         │ 2.2        │ virginica  │\n",
       "│ 3   │ 6.2         │ 2.8        │ 4.8         │ 1.8        │ virginica  │\n",
       "│ 4   │ 6.7         │ 3.3        │ 5.7         │ 2.5        │ virginica  │\n",
       "│ 5   │ 6.5         │ 3.0        │ 5.2         │ 2.0        │ virginica  │\n",
       "│ 6   │ 5.8         │ 4.0        │ 1.2         │ 0.2        │ setosa     │\n",
       "│ 7   │ 6.8         │ 2.8        │ 4.8         │ 1.4        │ versicolor │\n",
       "│ 8   │ 5.6         │ 2.5        │ 3.9         │ 1.1        │ versicolor │\n",
       "│ 9   │ 5.8         │ 2.6        │ 4.0         │ 1.2        │ versicolor │\n",
       "│ 10  │ 6.9         │ 3.1        │ 5.4         │ 2.1        │ virginica  │\n",
       "⋮\n",
       "│ 140 │ 5.5         │ 4.2        │ 1.4         │ 0.2        │ setosa     │\n",
       "│ 141 │ 5.2         │ 3.5        │ 1.5         │ 0.2        │ setosa     │\n",
       "│ 142 │ 6.1         │ 2.6        │ 5.6         │ 1.4        │ virginica  │\n",
       "│ 143 │ 6.5         │ 2.8        │ 4.6         │ 1.5        │ versicolor │\n",
       "│ 144 │ 6.3         │ 2.3        │ 4.4         │ 1.3        │ versicolor │\n",
       "│ 145 │ 6.3         │ 2.5        │ 5.0         │ 1.9        │ virginica  │\n",
       "│ 146 │ 5.6         │ 3.0        │ 4.1         │ 1.3        │ versicolor │\n",
       "│ 147 │ 5.5         │ 2.3        │ 4.0         │ 1.3        │ versicolor │\n",
       "│ 148 │ 4.7         │ 3.2        │ 1.3         │ 0.2        │ setosa     │\n",
       "│ 149 │ 4.8         │ 3.0        │ 1.4         │ 0.1        │ setosa     │\n",
       "│ 150 │ 5.0         │ 3.2        │ 1.2         │ 0.2        │ setosa     │"
      ]
     },
     "execution_count": 3,
     "metadata": {},
     "output_type": "execute_result"
    }
   ],
   "source": [
    "using CSV, Random\n",
    "\n",
    "iris = CSV.read(\"iris_data.csv\")\n",
    "\n",
    "# Mixing up the data\n",
    "shuff = copy(iris)\n",
    "iris = shuff[shuffle(1:end), :]"
   ]
  },
  {
   "cell_type": "code",
   "execution_count": 4,
   "metadata": {},
   "outputs": [],
   "source": [
    "# Making empty matrix X to append variable values (width/length, pedal/sepal)\n",
    "X = zeros(4, 150)\n",
    "\n",
    "# Making empty matrix Y to hold the value of which species it is\n",
    "Y = zeros(3, 150)\n",
    "\n",
    "# Filling in the matrices\n",
    "for i = 1:150\n",
    "    for j = 1:4\n",
    "        X[j, i] = iris[i, j]\n",
    "        # Determing species ([1,0,0]=setosa, [0,1,0]=versicolor, [0,0,1]=virginica)\n",
    "        if iris[i, 5] == \"setosa\"\n",
    "            Y[1, i] = 1.0\n",
    "        elseif iris[i, 5] == \"versicolor\"\n",
    "            Y[2, i] = 1.0\n",
    "        else \n",
    "            Y[3, i] = 1.0\n",
    "        end\n",
    "    end\n",
    "end"
   ]
  },
  {
   "cell_type": "code",
   "execution_count": 5,
   "metadata": {},
   "outputs": [
    {
     "data": {
      "text/plain": [
       "([5.5 6.5 … 4.8 5.0; 2.4 3.0 … 3.0 3.2; 3.7 5.8 … 1.4 1.2; 1.0 2.2 … 0.1 0.2], [0.0 0.0 … 1.0 1.0; 1.0 0.0 … 0.0 0.0; 0.0 1.0 … 0.0 0.0])"
      ]
     },
     "execution_count": 5,
     "metadata": {},
     "output_type": "execute_result"
    }
   ],
   "source": [
    "X,Y"
   ]
  },
  {
   "cell_type": "markdown",
   "metadata": {},
   "source": [
    "<img src=\"Images/irismlp.png\" width=\"500\" height=\"300\" />\n"
   ]
  },
  {
   "cell_type": "markdown",
   "metadata": {},
   "source": [
    "##### Sigmoid Function "
   ]
  },
  {
   "cell_type": "markdown",
   "metadata": {},
   "source": [
    "<img src=\"Images/Sigmoid.png\" width=\"200\" height=\"200\" />\n"
   ]
  },
  {
   "cell_type": "code",
   "execution_count": 6,
   "metadata": {},
   "outputs": [
    {
     "data": {
      "text/plain": [
       "σ (generic function with 1 method)"
      ]
     },
     "execution_count": 6,
     "metadata": {},
     "output_type": "execute_result"
    }
   ],
   "source": [
    "function σ(s)\n",
    "    1/(1+exp(-s))\n",
    "end"
   ]
  },
  {
   "cell_type": "markdown",
   "metadata": {},
   "source": [
    "##### Derivative of Sigmoid Function"
   ]
  },
  {
   "cell_type": "markdown",
   "metadata": {},
   "source": [
    "$$\\frac{\\delta \\sigma(x)}{\\delta(x)}=\\sigma(x) *(1-\\sigma(x))$$"
   ]
  },
  {
   "cell_type": "code",
   "execution_count": 7,
   "metadata": {},
   "outputs": [
    {
     "data": {
      "text/plain": [
       "dσ (generic function with 1 method)"
      ]
     },
     "execution_count": 7,
     "metadata": {},
     "output_type": "execute_result"
    }
   ],
   "source": [
    "function dσ(s)\n",
    "    σ(s)*(1 - σ(s))\n",
    "end"
   ]
  },
  {
   "cell_type": "markdown",
   "metadata": {},
   "source": [
    "##### Softmax Function"
   ]
  },
  {
   "cell_type": "markdown",
   "metadata": {},
   "source": [
    "$$f_{i}(\\vec{a})=\\frac{e^{a_{i}}}{\\sum_{k} e^{a_{k}}}$$"
   ]
  },
  {
   "cell_type": "code",
   "execution_count": 8,
   "metadata": {},
   "outputs": [
    {
     "data": {
      "text/plain": [
       "softmax (generic function with 1 method)"
      ]
     },
     "execution_count": 8,
     "metadata": {},
     "output_type": "execute_result"
    }
   ],
   "source": [
    "function softmax(a, i)\n",
    "    exp(a[i]) / (sum(exp(a[j]) for j = 1:length(a)))\n",
    "end"
   ]
  },
  {
   "cell_type": "markdown",
   "metadata": {},
   "source": [
    "#### Cross Entropy Function "
   ]
  },
  {
   "cell_type": "markdown",
   "metadata": {},
   "source": [
    "$$C E=-\\sum_{i}^{C} t_{i} \\log \\left(f(s)_{i}\\right)$$"
   ]
  },
  {
   "cell_type": "code",
   "execution_count": 9,
   "metadata": {},
   "outputs": [
    {
     "data": {
      "text/plain": [
       "L (generic function with 1 method)"
      ]
     },
     "execution_count": 9,
     "metadata": {},
     "output_type": "execute_result"
    }
   ],
   "source": [
    "function L(O, y)  \n",
    "    -sum(y[i]*log(O[i]) for i = 1:length(y))\n",
    "end"
   ]
  },
  {
   "cell_type": "code",
   "execution_count": 10,
   "metadata": {},
   "outputs": [
    {
     "data": {
      "text/plain": [
       "hadamard (generic function with 1 method)"
      ]
     },
     "execution_count": 10,
     "metadata": {},
     "output_type": "execute_result"
    }
   ],
   "source": [
    "function hadamard(x, y) \n",
    "    [x[i]*y[i] for i = 1:length(x)]\n",
    "end"
   ]
  },
  {
   "cell_type": "code",
   "execution_count": 11,
   "metadata": {},
   "outputs": [
    {
     "data": {
      "text/plain": [
       "forward_propagation (generic function with 1 method)"
      ]
     },
     "execution_count": 11,
     "metadata": {},
     "output_type": "execute_result"
    }
   ],
   "source": [
    "function forward_propagation(x, y, W, b)\n",
    "    a1 = copy(x)\n",
    "    z2 = W[1]*a1 + b[1]\n",
    "    a2 = σ.(z2)\n",
    "    \n",
    "    z3 = W[2]*a2 + b[2]\n",
    "    a3 = σ.(z3)\n",
    "    \n",
    "    z4 = W[3]*a3 + b[3]\n",
    "    a4 = σ.(z4)\n",
    "    \n",
    "    a = [a1, a2, a3, a4]\n",
    "    z = [[0,0], z2, z3, z4]\n",
    "    O = [softmax(a4, i) for i = 1:length(a4)]\n",
    "    loss = L(O, y)\n",
    "    return a, z, O, loss\n",
    "end"
   ]
  },
  {
   "cell_type": "code",
   "execution_count": 12,
   "metadata": {},
   "outputs": [
    {
     "data": {
      "text/plain": [
       "gradient_descent! (generic function with 1 method)"
      ]
     },
     "execution_count": 12,
     "metadata": {},
     "output_type": "execute_result"
    }
   ],
   "source": [
    "function back_propagation(x, y, W, b)\n",
    "    a, z, O, loss = forward_propagation(x, y, W, b)\n",
    "    δ4 = a[4] - y\n",
    "    δ3 = hadamard(W[3]'*δ4, dσ.(z[3]))\n",
    "    δ2 = hadamard(W[2]'*δ3, dσ.(z[2]))\n",
    "    δ = [[0,0], δ2, δ3, δ4]\n",
    "    return a, δ\n",
    "end\n",
    "\n",
    "function ∇L(x, y, W, b)\n",
    "    \n",
    "    a, δ = back_propagation(x, y, W, b)\n",
    "    \n",
    "    db1 = copy(δ[2])\n",
    "    db2 = copy(δ[3])\n",
    "    db3 = copy(δ[4])\n",
    "    \n",
    "    dW1 = δ[2]*a[1]'\n",
    "    dW2 = δ[3]*a[2]'\n",
    "    dW3 = δ[4]*a[3]'\n",
    "    return [db1, db2, db3], [dW1, dW2, dW3]\n",
    "end\n",
    "\n",
    "function gradient_descent!(x, y, W, b, α)\n",
    "    db, dW = ∇L(x, y, W, b)\n",
    "    for i = 1:length(W)\n",
    "        W[i] -= α*dW[i]\n",
    "        b[i] -= α*b[i]\n",
    "    end\n",
    "end"
   ]
  },
  {
   "cell_type": "code",
   "execution_count": 13,
   "metadata": {},
   "outputs": [
    {
     "data": {
      "text/plain": [
       "3-element Array{Array{Float64,2},1}:\n",
       " [0.24672666673585586 0.29185243743599854 0.14735410087481382 0.19440782786300947; 0.03492777714149464 0.9040513700416737 0.8809892864035829 0.33818397032950176; … ; 0.630687986390595 0.48386930601100797 0.6402513197303188 0.5006855418420693; 0.104256976325517 0.9166229895847076 0.49311587757229147 0.2825078120355997]          \n",
       " [0.2273318652716596 0.06250367422658099 … 0.8505655293730838 0.25984296440306176; 0.361940889912135 0.22540732163350996 … 0.9664304766107483 0.7897073912607533; … ; 0.7724847512429258 0.025649311659785567 … 0.4057466756232422 0.8539282430985815; 0.3287232431239566 0.40697912795347846 … 0.007787203536470777 0.47902979772001664]\n",
       " [0.42849790840037105 0.11780434297214537 … 0.11635181155353447 0.10822145985337372; 0.01959323130623236 0.07832427014401389 … 0.05569854468899793 0.18910865107416974; 0.1446635519771715 0.182815668677756 … 0.7034390406142057 0.8430255438164489]                                                                                    "
      ]
     },
     "execution_count": 13,
     "metadata": {},
     "output_type": "execute_result"
    }
   ],
   "source": [
    "\n",
    "W1 = rand(5, 4)\n",
    "W2 = rand(5, 5)\n",
    "W3 = rand(3, 5)\n",
    "W = [W1, W2, W3]"
   ]
  },
  {
   "cell_type": "code",
   "execution_count": 14,
   "metadata": {},
   "outputs": [
    {
     "data": {
      "text/plain": [
       "3-element Array{Array{Float64,1},1}:\n",
       " [-1.0, -1.0, -1.0, -1.0, -1.0]\n",
       " [-1.0, -1.0, -1.0, -1.0, -1.0]\n",
       " [-1.0, -1.0, -1.0]            "
      ]
     },
     "execution_count": 14,
     "metadata": {},
     "output_type": "execute_result"
    }
   ],
   "source": [
    "b1 = -1*ones(5)\n",
    "b2 = -1*ones(5)\n",
    "b3 = -1*ones(3)\n",
    "b = [b1, b2, b3]"
   ]
  },
  {
   "cell_type": "code",
   "execution_count": 15,
   "metadata": {},
   "outputs": [],
   "source": [
    "for _ in 1:1000000\n",
    "    j = rand(1:50)\n",
    "    gradient_descent!(X[:,j], Y[:,j], W, b, 0.37) # The last number is alpha which is our step length\n",
    "end"
   ]
  },
  {
   "cell_type": "code",
   "execution_count": 16,
   "metadata": {},
   "outputs": [
    {
     "data": {
      "text/plain": [
       "([0.30484726340794155, 0.34819248656282126, 0.34696025002923736], 1.0549998298164636)"
      ]
     },
     "execution_count": 16,
     "metadata": {},
     "output_type": "execute_result"
    }
   ],
   "source": [
    "forward_propagation(X[:,110], Y[:,110], W, b)[3:4]\n"
   ]
  },
  {
   "cell_type": "code",
   "execution_count": 17,
   "metadata": {},
   "outputs": [],
   "source": [
    "train_data = zeros(4, 100)\n",
    "train_label = zeros(3, 100)\n",
    "\n",
    "for i in 1:100\n",
    "    j = rand(1:3)\n",
    "    if j == 1\n",
    "        k = rand(1:50)\n",
    "        train_data[:, i] = copy(X[:, k])\n",
    "        train_label[:, i] = copy(Y[:,k])\n",
    "    elseif j == 2\n",
    "        k = rand(50:100)\n",
    "        train_data[:, i] = copy(X[:, k])\n",
    "        train_label[:, i] = copy(Y[:,k])\n",
    "    else\n",
    "        k = rand(100:150)\n",
    "        train_data[:, i] = copy(X[:, k])\n",
    "        train_label[:, i] = copy(Y[:,k])\n",
    "    end\n",
    "end"
   ]
  },
  {
   "cell_type": "code",
   "execution_count": 18,
   "metadata": {},
   "outputs": [
    {
     "data": {
      "text/plain": [
       "mini_batch_∇L (generic function with 1 method)"
      ]
     },
     "execution_count": 18,
     "metadata": {},
     "output_type": "execute_result"
    }
   ],
   "source": [
    "function mini_batch_∇L(train_data, train_label, W, b, m)\n",
    "    \n",
    "    i = rand(1:100)\n",
    "    a, δ = back_propagation(train_data[:, i], train_label[:,i], W, b)\n",
    "    \n",
    "    db1 = (δ[2])\n",
    "    db2 = (δ[3])\n",
    "    db3 = (δ[4])\n",
    "    \n",
    "    dW1 = δ[2]*a[1]'\n",
    "    dW2 = δ[3]*a[2]'\n",
    "    dW3 = δ[4]*a[3]'\n",
    "    \n",
    "    for _ in 1:m\n",
    "        j = rand(1:100)\n",
    "        a, δ = back_propagation(train_data[:, j], train_label[:,j], W, b)\n",
    "        \n",
    "        db1 += copy(δ[2])\n",
    "        db2 += copy(δ[3])\n",
    "        db3 += copy(δ[4])\n",
    "    \n",
    "        dW1 += δ[2]*a[1]'\n",
    "        dW2 += δ[3]*a[2]'\n",
    "        dW3 += δ[4]*a[3]'\n",
    "    end\n",
    "    \n",
    "    return [db1/m, db2/m, db3/m], [dW1/m, dW2/m, dW3/m]\n",
    "end"
   ]
  },
  {
   "cell_type": "code",
   "execution_count": 19,
   "metadata": {},
   "outputs": [
    {
     "data": {
      "text/plain": [
       "stochastic_gradient_descent! (generic function with 1 method)"
      ]
     },
     "execution_count": 19,
     "metadata": {},
     "output_type": "execute_result"
    }
   ],
   "source": [
    "function stochastic_gradient_descent!(train_data, train_label, W, b, α, m)\n",
    "    db, dW = mini_batch_∇L(train_data, train_label, W, b, m)\n",
    "\n",
    "    for i = 1:length(W)\n",
    "        W[i] -= α*dW[i]\n",
    "        b[i] -= α*b[i]\n",
    "    end\n",
    "end"
   ]
  },
  {
   "cell_type": "code",
   "execution_count": 21,
   "metadata": {},
   "outputs": [],
   "source": [
    "for _ in 1:10000\n",
    "    stochastic_gradient_descent!(train_data, train_label, W, b, 0.38, 23)\n",
    "end"
   ]
  },
  {
   "cell_type": "code",
   "execution_count": 22,
   "metadata": {},
   "outputs": [
    {
     "data": {
      "text/plain": [
       "3×100 Array{Float64,2}:\n",
       " 0.0  1.0  0.0  0.0  0.0  0.0  0.0  0.0  …  0.0  1.0  0.0  0.0  0.0  1.0  0.0\n",
       " 0.0  0.0  0.0  1.0  0.0  1.0  0.0  0.0     1.0  0.0  0.0  1.0  0.0  0.0  0.0\n",
       " 1.0  0.0  1.0  0.0  1.0  0.0  1.0  1.0     0.0  0.0  1.0  0.0  1.0  0.0  1.0"
      ]
     },
     "execution_count": 22,
     "metadata": {},
     "output_type": "execute_result"
    }
   ],
   "source": []
  },
  {
   "cell_type": "code",
   "execution_count": null,
   "metadata": {},
   "outputs": [],
   "source": []
  }
 ],
 "metadata": {
  "kernelspec": {
   "display_name": "Julia 1.3.1",
   "language": "julia",
   "name": "julia-1.3"
  },
  "language_info": {
   "file_extension": ".jl",
   "mimetype": "application/julia",
   "name": "julia",
   "version": "1.3.1"
  }
 },
 "nbformat": 4,
 "nbformat_minor": 4
}
