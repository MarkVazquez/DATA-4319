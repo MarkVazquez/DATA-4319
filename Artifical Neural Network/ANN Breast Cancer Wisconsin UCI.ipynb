{
 "cells": [
  {
   "cell_type": "markdown",
   "metadata": {},
   "source": [
    "## Artifical Neural Network"
   ]
  },
  {
   "cell_type": "code",
   "execution_count": 1,
   "metadata": {},
   "outputs": [],
   "source": [
    "import pandas as pd\n",
    "import numpy as np\n",
    "import matplotlib.pyplot as plt"
   ]
  },
  {
   "cell_type": "markdown",
   "metadata": {},
   "source": [
    "#### Breast Cancer Dataset "
   ]
  },
  {
   "cell_type": "markdown",
   "metadata": {},
   "source": [
    "<img src=\"Images/Large14.jpg\" width=\"300\" height=\"60\" />\n"
   ]
  },
  {
   "cell_type": "markdown",
   "metadata": {},
   "source": [
    "Attribute Information:\n",
    "\n",
    "1. Sample code number: id number\n",
    "2. Clump Thickness: 1 - 10\n",
    "3. Uniformity of Cell Size: 1 - 10\n",
    "4. Uniformity of Cell Shape: 1 - 10\n",
    "5. Marginal Adhesion: 1 - 10\n",
    "6. Single Epithelial Cell Size: 1 - 10\n",
    "7. Bare Nuclei: 1 - 10\n",
    "8. Bland Chromatin: 1 - 10\n",
    "9. Normal Nucleoli: 1 - 10\n",
    "10. Mitoses: 1 - 10\n",
    "11. Class: (2 for benign, 4 for malignant)"
   ]
  },
  {
   "cell_type": "markdown",
   "metadata": {},
   "source": [
    "#### Data to csv"
   ]
  },
  {
   "cell_type": "code",
   "execution_count": 2,
   "metadata": {},
   "outputs": [],
   "source": [
    "with open(\"breast-cancer-wisconsin.data\") as f: #reading the data\n",
    "    text = f.readlines()"
   ]
  },
  {
   "cell_type": "code",
   "execution_count": 3,
   "metadata": {},
   "outputs": [],
   "source": [
    "## Data cleaning\n",
    "breast_cancer = []\n",
    "for l in text:\n",
    "    breast_cancer.append(l.strip())"
   ]
  },
  {
   "cell_type": "code",
   "execution_count": 4,
   "metadata": {},
   "outputs": [],
   "source": [
    "with open(\"breast_cancer.csv\", \"w\") as f:\n",
    "    f.write(\"ID_Num,Clump_Thickness,Cell_Size,Cell_Shape,\"\\\n",
    "               \"Marginal_Adhesion,Epithelial_Cell_Size,Bare_Nuclei,\"\\\n",
    "               \"Bland_Chromatin,Normal_Nucleoli,Mitoses,Class\\n\")\n",
    "    for line in breast_cancer:\n",
    "        f.write(line + \"\\n\")\n",
    "        "
   ]
  },
  {
   "cell_type": "markdown",
   "metadata": {},
   "source": [
    "#### Data Preprocessing"
   ]
  },
  {
   "cell_type": "code",
   "execution_count": 5,
   "metadata": {},
   "outputs": [],
   "source": [
    "dataset = pd.read_csv(\"breast_cancer.csv\", na_values = '?')\n",
    "#dataset = dataset.replace('?', np.nan)\n",
    "#dataset = dataset.fillna(dataset.mean())\n",
    "dataset = dataset.dropna()\n",
    "X = dataset.iloc[:, 1:10].values #select all Except ID numbers and Class\n",
    "Y = dataset.iloc[:, 10].values\n",
    "Y = np.where(Y==2, 0, 1) #Class 2 for Benign = 0 else 1 (malignant)\n"
   ]
  },
  {
   "cell_type": "code",
   "execution_count": 6,
   "metadata": {},
   "outputs": [
    {
     "data": {
      "text/html": [
       "<div>\n",
       "<style scoped>\n",
       "    .dataframe tbody tr th:only-of-type {\n",
       "        vertical-align: middle;\n",
       "    }\n",
       "\n",
       "    .dataframe tbody tr th {\n",
       "        vertical-align: top;\n",
       "    }\n",
       "\n",
       "    .dataframe thead th {\n",
       "        text-align: right;\n",
       "    }\n",
       "</style>\n",
       "<table border=\"1\" class=\"dataframe\">\n",
       "  <thead>\n",
       "    <tr style=\"text-align: right;\">\n",
       "      <th></th>\n",
       "      <th>ID_Num</th>\n",
       "      <th>Clump_Thickness</th>\n",
       "      <th>Cell_Size</th>\n",
       "      <th>Cell_Shape</th>\n",
       "      <th>Marginal_Adhesion</th>\n",
       "      <th>Epithelial_Cell_Size</th>\n",
       "      <th>Bare_Nuclei</th>\n",
       "      <th>Bland_Chromatin</th>\n",
       "      <th>Normal_Nucleoli</th>\n",
       "      <th>Mitoses</th>\n",
       "      <th>Class</th>\n",
       "    </tr>\n",
       "  </thead>\n",
       "  <tbody>\n",
       "    <tr>\n",
       "      <td>0</td>\n",
       "      <td>1000025</td>\n",
       "      <td>5</td>\n",
       "      <td>1</td>\n",
       "      <td>1</td>\n",
       "      <td>1</td>\n",
       "      <td>2</td>\n",
       "      <td>1.0</td>\n",
       "      <td>3</td>\n",
       "      <td>1</td>\n",
       "      <td>1</td>\n",
       "      <td>2</td>\n",
       "    </tr>\n",
       "    <tr>\n",
       "      <td>1</td>\n",
       "      <td>1002945</td>\n",
       "      <td>5</td>\n",
       "      <td>4</td>\n",
       "      <td>4</td>\n",
       "      <td>5</td>\n",
       "      <td>7</td>\n",
       "      <td>10.0</td>\n",
       "      <td>3</td>\n",
       "      <td>2</td>\n",
       "      <td>1</td>\n",
       "      <td>2</td>\n",
       "    </tr>\n",
       "    <tr>\n",
       "      <td>2</td>\n",
       "      <td>1015425</td>\n",
       "      <td>3</td>\n",
       "      <td>1</td>\n",
       "      <td>1</td>\n",
       "      <td>1</td>\n",
       "      <td>2</td>\n",
       "      <td>2.0</td>\n",
       "      <td>3</td>\n",
       "      <td>1</td>\n",
       "      <td>1</td>\n",
       "      <td>2</td>\n",
       "    </tr>\n",
       "    <tr>\n",
       "      <td>3</td>\n",
       "      <td>1016277</td>\n",
       "      <td>6</td>\n",
       "      <td>8</td>\n",
       "      <td>8</td>\n",
       "      <td>1</td>\n",
       "      <td>3</td>\n",
       "      <td>4.0</td>\n",
       "      <td>3</td>\n",
       "      <td>7</td>\n",
       "      <td>1</td>\n",
       "      <td>2</td>\n",
       "    </tr>\n",
       "    <tr>\n",
       "      <td>4</td>\n",
       "      <td>1017023</td>\n",
       "      <td>4</td>\n",
       "      <td>1</td>\n",
       "      <td>1</td>\n",
       "      <td>3</td>\n",
       "      <td>2</td>\n",
       "      <td>1.0</td>\n",
       "      <td>3</td>\n",
       "      <td>1</td>\n",
       "      <td>1</td>\n",
       "      <td>2</td>\n",
       "    </tr>\n",
       "    <tr>\n",
       "      <td>...</td>\n",
       "      <td>...</td>\n",
       "      <td>...</td>\n",
       "      <td>...</td>\n",
       "      <td>...</td>\n",
       "      <td>...</td>\n",
       "      <td>...</td>\n",
       "      <td>...</td>\n",
       "      <td>...</td>\n",
       "      <td>...</td>\n",
       "      <td>...</td>\n",
       "      <td>...</td>\n",
       "    </tr>\n",
       "    <tr>\n",
       "      <td>694</td>\n",
       "      <td>776715</td>\n",
       "      <td>3</td>\n",
       "      <td>1</td>\n",
       "      <td>1</td>\n",
       "      <td>1</td>\n",
       "      <td>3</td>\n",
       "      <td>2.0</td>\n",
       "      <td>1</td>\n",
       "      <td>1</td>\n",
       "      <td>1</td>\n",
       "      <td>2</td>\n",
       "    </tr>\n",
       "    <tr>\n",
       "      <td>695</td>\n",
       "      <td>841769</td>\n",
       "      <td>2</td>\n",
       "      <td>1</td>\n",
       "      <td>1</td>\n",
       "      <td>1</td>\n",
       "      <td>2</td>\n",
       "      <td>1.0</td>\n",
       "      <td>1</td>\n",
       "      <td>1</td>\n",
       "      <td>1</td>\n",
       "      <td>2</td>\n",
       "    </tr>\n",
       "    <tr>\n",
       "      <td>696</td>\n",
       "      <td>888820</td>\n",
       "      <td>5</td>\n",
       "      <td>10</td>\n",
       "      <td>10</td>\n",
       "      <td>3</td>\n",
       "      <td>7</td>\n",
       "      <td>3.0</td>\n",
       "      <td>8</td>\n",
       "      <td>10</td>\n",
       "      <td>2</td>\n",
       "      <td>4</td>\n",
       "    </tr>\n",
       "    <tr>\n",
       "      <td>697</td>\n",
       "      <td>897471</td>\n",
       "      <td>4</td>\n",
       "      <td>8</td>\n",
       "      <td>6</td>\n",
       "      <td>4</td>\n",
       "      <td>3</td>\n",
       "      <td>4.0</td>\n",
       "      <td>10</td>\n",
       "      <td>6</td>\n",
       "      <td>1</td>\n",
       "      <td>4</td>\n",
       "    </tr>\n",
       "    <tr>\n",
       "      <td>698</td>\n",
       "      <td>897471</td>\n",
       "      <td>4</td>\n",
       "      <td>8</td>\n",
       "      <td>8</td>\n",
       "      <td>5</td>\n",
       "      <td>4</td>\n",
       "      <td>5.0</td>\n",
       "      <td>10</td>\n",
       "      <td>4</td>\n",
       "      <td>1</td>\n",
       "      <td>4</td>\n",
       "    </tr>\n",
       "  </tbody>\n",
       "</table>\n",
       "<p>683 rows × 11 columns</p>\n",
       "</div>"
      ],
      "text/plain": [
       "      ID_Num  Clump_Thickness  Cell_Size  Cell_Shape  Marginal_Adhesion  \\\n",
       "0    1000025                5          1           1                  1   \n",
       "1    1002945                5          4           4                  5   \n",
       "2    1015425                3          1           1                  1   \n",
       "3    1016277                6          8           8                  1   \n",
       "4    1017023                4          1           1                  3   \n",
       "..       ...              ...        ...         ...                ...   \n",
       "694   776715                3          1           1                  1   \n",
       "695   841769                2          1           1                  1   \n",
       "696   888820                5         10          10                  3   \n",
       "697   897471                4          8           6                  4   \n",
       "698   897471                4          8           8                  5   \n",
       "\n",
       "     Epithelial_Cell_Size  Bare_Nuclei  Bland_Chromatin  Normal_Nucleoli  \\\n",
       "0                       2          1.0                3                1   \n",
       "1                       7         10.0                3                2   \n",
       "2                       2          2.0                3                1   \n",
       "3                       3          4.0                3                7   \n",
       "4                       2          1.0                3                1   \n",
       "..                    ...          ...              ...              ...   \n",
       "694                     3          2.0                1                1   \n",
       "695                     2          1.0                1                1   \n",
       "696                     7          3.0                8               10   \n",
       "697                     3          4.0               10                6   \n",
       "698                     4          5.0               10                4   \n",
       "\n",
       "     Mitoses  Class  \n",
       "0          1      2  \n",
       "1          1      2  \n",
       "2          1      2  \n",
       "3          1      2  \n",
       "4          1      2  \n",
       "..       ...    ...  \n",
       "694        1      2  \n",
       "695        1      2  \n",
       "696        2      4  \n",
       "697        1      4  \n",
       "698        1      4  \n",
       "\n",
       "[683 rows x 11 columns]"
      ]
     },
     "execution_count": 6,
     "metadata": {},
     "output_type": "execute_result"
    }
   ],
   "source": [
    "dataset"
   ]
  },
  {
   "cell_type": "code",
   "execution_count": 7,
   "metadata": {},
   "outputs": [],
   "source": [
    "from sklearn.model_selection import train_test_split"
   ]
  },
  {
   "cell_type": "code",
   "execution_count": 8,
   "metadata": {},
   "outputs": [],
   "source": [
    "X_train, X_test, y_train, y_test = train_test_split(X, Y, test_size = .15, random_state=0)"
   ]
  },
  {
   "cell_type": "code",
   "execution_count": 9,
   "metadata": {},
   "outputs": [],
   "source": [
    "# Feature Scaling\n",
    "from sklearn.preprocessing import StandardScaler\n",
    "sc = StandardScaler()\n",
    "X_train = sc.fit_transform(X_train)\n",
    "X_test = sc.transform(X_test)"
   ]
  },
  {
   "cell_type": "code",
   "execution_count": 10,
   "metadata": {},
   "outputs": [
    {
     "data": {
      "text/plain": [
       "(array([[ 1.9967197 ,  2.20519765,  0.93821373, ...,  0.22275834,\n",
       "          0.01546113,  0.23858226],\n",
       "        [-0.14064867, -0.69725614, -0.73613693, ..., -0.18353046,\n",
       "         -0.6250714 , -0.33799154],\n",
       "        [-1.20933285, -0.69725614, -0.73613693, ..., -0.99610807,\n",
       "         -0.6250714 , -0.33799154],\n",
       "        ...,\n",
       "        [-1.20933285, -0.69725614, -0.73613693, ..., -0.99610807,\n",
       "         -0.6250714 , -0.33799154],\n",
       "        [-0.49687673, -0.69725614, -0.73613693, ..., -0.58981926,\n",
       "         -0.6250714 , -0.33799154],\n",
       "        [ 1.9967197 ,  1.88270278,  1.27308387, ...,  1.44162475,\n",
       "          1.2965262 , -0.33799154]]),)"
      ]
     },
     "execution_count": 10,
     "metadata": {},
     "output_type": "execute_result"
    }
   ],
   "source": [
    "X_train, "
   ]
  },
  {
   "cell_type": "code",
   "execution_count": 11,
   "metadata": {},
   "outputs": [
    {
     "name": "stderr",
     "output_type": "stream",
     "text": [
      "Using TensorFlow backend.\n"
     ]
    }
   ],
   "source": [
    "import keras\n",
    "from keras.models import Sequential\n",
    "from keras.layers import Dense"
   ]
  },
  {
   "cell_type": "markdown",
   "metadata": {},
   "source": [
    "#### Artifical neural network with two hidden layers"
   ]
  },
  {
   "cell_type": "markdown",
   "metadata": {},
   "source": [
    "<img src=\"Images/ANNDiagram.png\" width=\"300\" height=\"60\" />\n"
   ]
  },
  {
   "cell_type": "code",
   "execution_count": 12,
   "metadata": {},
   "outputs": [],
   "source": [
    "model = Sequential()"
   ]
  },
  {
   "cell_type": "code",
   "execution_count": 13,
   "metadata": {},
   "outputs": [],
   "source": [
    "#First input layer and hidden layer\n",
    "## Add picture of rectifier function\n"
   ]
  },
  {
   "cell_type": "code",
   "execution_count": 14,
   "metadata": {},
   "outputs": [],
   "source": [
    "##Output layer is sigmoid function\n",
    "#Stocastic gradient descent "
   ]
  },
  {
   "cell_type": "code",
   "execution_count": 15,
   "metadata": {},
   "outputs": [],
   "source": [
    "model.add(Dense(units = 5, kernel_initializer = 'uniform', activation = 'relu', input_dim = 9))"
   ]
  },
  {
   "cell_type": "code",
   "execution_count": 16,
   "metadata": {},
   "outputs": [],
   "source": [
    "model.add(Dense(units = 5,  kernel_initializer = 'uniform', activation = 'relu'))"
   ]
  },
  {
   "cell_type": "code",
   "execution_count": 17,
   "metadata": {},
   "outputs": [],
   "source": [
    "model.add(Dense(units = 1,  kernel_initializer = 'uniform', activation = 'sigmoid'))"
   ]
  },
  {
   "cell_type": "code",
   "execution_count": 18,
   "metadata": {},
   "outputs": [],
   "source": [
    "#Stocastic gradient descent \n",
    "#Logarithmic Loss 235 of Udemy\n",
    "model.compile(optimizer = 'adam', loss = 'binary_crossentropy', metrics = ['accuracy'])\n",
    "\n"
   ]
  },
  {
   "cell_type": "code",
   "execution_count": 22,
   "metadata": {},
   "outputs": [
    {
     "name": "stdout",
     "output_type": "stream",
     "text": [
      "Model: \"sequential_1\"\n",
      "_________________________________________________________________\n",
      "Layer (type)                 Output Shape              Param #   \n",
      "=================================================================\n",
      "dense_1 (Dense)              (None, 5)                 50        \n",
      "_________________________________________________________________\n",
      "dense_2 (Dense)              (None, 5)                 30        \n",
      "_________________________________________________________________\n",
      "dense_3 (Dense)              (None, 1)                 6         \n",
      "=================================================================\n",
      "Total params: 86\n",
      "Trainable params: 86\n",
      "Non-trainable params: 0\n",
      "_________________________________________________________________\n"
     ]
    }
   ],
   "source": [
    "model.summary()"
   ]
  },
  {
   "cell_type": "code",
   "execution_count": 19,
   "metadata": {},
   "outputs": [
    {
     "name": "stdout",
     "output_type": "stream",
     "text": [
      "Train on 580 samples, validate on 103 samples\n",
      "Epoch 1/100\n",
      "580/580 [==============================] - 2s 3ms/step - loss: 0.6699 - accuracy: 0.8052 - val_loss: 0.6094 - val_accuracy: 0.9515\n",
      "Epoch 2/100\n",
      "580/580 [==============================] - 0s 465us/step - loss: 0.4576 - accuracy: 0.9690 - val_loss: 0.3194 - val_accuracy: 0.9612\n",
      "Epoch 3/100\n",
      "580/580 [==============================] - 0s 410us/step - loss: 0.2111 - accuracy: 0.9707 - val_loss: 0.1639 - val_accuracy: 0.9515\n",
      "Epoch 4/100\n",
      "580/580 [==============================] - 0s 409us/step - loss: 0.1176 - accuracy: 0.9724 - val_loss: 0.1224 - val_accuracy: 0.9515\n",
      "Epoch 5/100\n",
      "580/580 [==============================] - 0s 393us/step - loss: 0.0929 - accuracy: 0.9724 - val_loss: 0.1090 - val_accuracy: 0.9515\n",
      "Epoch 6/100\n",
      "580/580 [==============================] - 0s 403us/step - loss: 0.0835 - accuracy: 0.9724 - val_loss: 0.1033 - val_accuracy: 0.9515\n",
      "Epoch 7/100\n",
      "580/580 [==============================] - 0s 383us/step - loss: 0.0796 - accuracy: 0.9724 - val_loss: 0.1001 - val_accuracy: 0.9515\n",
      "Epoch 8/100\n",
      "580/580 [==============================] - 0s 412us/step - loss: 0.0775 - accuracy: 0.9724 - val_loss: 0.0974 - val_accuracy: 0.9515\n",
      "Epoch 9/100\n",
      "580/580 [==============================] - 0s 417us/step - loss: 0.0757 - accuracy: 0.9724 - val_loss: 0.0965 - val_accuracy: 0.9515\n",
      "Epoch 10/100\n",
      "580/580 [==============================] - 0s 452us/step - loss: 0.0745 - accuracy: 0.9724 - val_loss: 0.0944 - val_accuracy: 0.9515\n",
      "Epoch 11/100\n",
      "580/580 [==============================] - 0s 417us/step - loss: 0.0737 - accuracy: 0.9724 - val_loss: 0.0928 - val_accuracy: 0.9515\n",
      "Epoch 12/100\n",
      "580/580 [==============================] - 0s 447us/step - loss: 0.0729 - accuracy: 0.9741 - val_loss: 0.0912 - val_accuracy: 0.9515\n",
      "Epoch 13/100\n",
      "580/580 [==============================] - 0s 407us/step - loss: 0.0721 - accuracy: 0.9759 - val_loss: 0.0894 - val_accuracy: 0.9515\n",
      "Epoch 14/100\n",
      "580/580 [==============================] - 0s 405us/step - loss: 0.0713 - accuracy: 0.9759 - val_loss: 0.0887 - val_accuracy: 0.9515\n",
      "Epoch 15/100\n",
      "580/580 [==============================] - 0s 402us/step - loss: 0.0707 - accuracy: 0.9759 - val_loss: 0.0876 - val_accuracy: 0.9612\n",
      "Epoch 16/100\n",
      "580/580 [==============================] - 0s 438us/step - loss: 0.0706 - accuracy: 0.9759 - val_loss: 0.0870 - val_accuracy: 0.9612\n",
      "Epoch 17/100\n",
      "580/580 [==============================] - 0s 410us/step - loss: 0.0698 - accuracy: 0.9759 - val_loss: 0.0858 - val_accuracy: 0.9612\n",
      "Epoch 18/100\n",
      "580/580 [==============================] - 0s 403us/step - loss: 0.0695 - accuracy: 0.9759 - val_loss: 0.0854 - val_accuracy: 0.9612\n",
      "Epoch 19/100\n",
      "580/580 [==============================] - 0s 398us/step - loss: 0.0693 - accuracy: 0.9759 - val_loss: 0.0850 - val_accuracy: 0.9612\n",
      "Epoch 20/100\n",
      "580/580 [==============================] - 0s 407us/step - loss: 0.0690 - accuracy: 0.9776 - val_loss: 0.0831 - val_accuracy: 0.9612\n",
      "Epoch 21/100\n",
      "580/580 [==============================] - 0s 422us/step - loss: 0.0687 - accuracy: 0.9776 - val_loss: 0.0825 - val_accuracy: 0.9612\n",
      "Epoch 22/100\n",
      "580/580 [==============================] - 0s 405us/step - loss: 0.0687 - accuracy: 0.9776 - val_loss: 0.0825 - val_accuracy: 0.9612\n",
      "Epoch 23/100\n",
      "580/580 [==============================] - 0s 402us/step - loss: 0.0683 - accuracy: 0.9776 - val_loss: 0.0820 - val_accuracy: 0.9612\n",
      "Epoch 24/100\n",
      "580/580 [==============================] - 0s 412us/step - loss: 0.0680 - accuracy: 0.9776 - val_loss: 0.0819 - val_accuracy: 0.9612\n",
      "Epoch 25/100\n",
      "580/580 [==============================] - 0s 378us/step - loss: 0.0679 - accuracy: 0.9776 - val_loss: 0.0822 - val_accuracy: 0.9612\n",
      "Epoch 26/100\n",
      "580/580 [==============================] - 0s 434us/step - loss: 0.0678 - accuracy: 0.9776 - val_loss: 0.0813 - val_accuracy: 0.9612\n",
      "Epoch 27/100\n",
      "580/580 [==============================] - 0s 403us/step - loss: 0.0676 - accuracy: 0.9776 - val_loss: 0.0809 - val_accuracy: 0.9709\n",
      "Epoch 28/100\n",
      "580/580 [==============================] - 0s 395us/step - loss: 0.0674 - accuracy: 0.9793 - val_loss: 0.0805 - val_accuracy: 0.9709\n",
      "Epoch 29/100\n",
      "580/580 [==============================] - 0s 400us/step - loss: 0.0675 - accuracy: 0.9776 - val_loss: 0.0803 - val_accuracy: 0.9709\n",
      "Epoch 30/100\n",
      "580/580 [==============================] - 0s 383us/step - loss: 0.0675 - accuracy: 0.9793 - val_loss: 0.0803 - val_accuracy: 0.9709\n",
      "Epoch 31/100\n",
      "580/580 [==============================] - 0s 407us/step - loss: 0.0670 - accuracy: 0.9793 - val_loss: 0.0795 - val_accuracy: 0.9709\n",
      "Epoch 32/100\n",
      "580/580 [==============================] - 0s 415us/step - loss: 0.0667 - accuracy: 0.9793 - val_loss: 0.0795 - val_accuracy: 0.9709\n",
      "Epoch 33/100\n",
      "580/580 [==============================] - 0s 410us/step - loss: 0.0675 - accuracy: 0.9793 - val_loss: 0.0791 - val_accuracy: 0.9709\n",
      "Epoch 34/100\n",
      "580/580 [==============================] - 0s 379us/step - loss: 0.0670 - accuracy: 0.9793 - val_loss: 0.0790 - val_accuracy: 0.9709\n",
      "Epoch 35/100\n",
      "580/580 [==============================] - 0s 381us/step - loss: 0.0668 - accuracy: 0.9793 - val_loss: 0.0791 - val_accuracy: 0.9709\n",
      "Epoch 36/100\n",
      "580/580 [==============================] - 0s 371us/step - loss: 0.0667 - accuracy: 0.9810 - val_loss: 0.0788 - val_accuracy: 0.9709\n",
      "Epoch 37/100\n",
      "580/580 [==============================] - 0s 409us/step - loss: 0.0666 - accuracy: 0.9793 - val_loss: 0.0783 - val_accuracy: 0.9709\n",
      "Epoch 38/100\n",
      "580/580 [==============================] - 0s 433us/step - loss: 0.0665 - accuracy: 0.9793 - val_loss: 0.0785 - val_accuracy: 0.9709\n",
      "Epoch 39/100\n",
      "580/580 [==============================] - 0s 410us/step - loss: 0.0665 - accuracy: 0.9810 - val_loss: 0.0780 - val_accuracy: 0.9709\n",
      "Epoch 40/100\n",
      "580/580 [==============================] - 0s 405us/step - loss: 0.0665 - accuracy: 0.9810 - val_loss: 0.0778 - val_accuracy: 0.9709\n",
      "Epoch 41/100\n",
      "580/580 [==============================] - 0s 405us/step - loss: 0.0665 - accuracy: 0.9810 - val_loss: 0.0776 - val_accuracy: 0.9709\n",
      "Epoch 42/100\n",
      "580/580 [==============================] - 0s 414us/step - loss: 0.0664 - accuracy: 0.9810 - val_loss: 0.0777 - val_accuracy: 0.9709\n",
      "Epoch 43/100\n",
      "580/580 [==============================] - 0s 405us/step - loss: 0.0663 - accuracy: 0.9810 - val_loss: 0.0781 - val_accuracy: 0.9709\n",
      "Epoch 44/100\n",
      "580/580 [==============================] - 0s 414us/step - loss: 0.0666 - accuracy: 0.9810 - val_loss: 0.0773 - val_accuracy: 0.9709\n",
      "Epoch 45/100\n",
      "580/580 [==============================] - 0s 483us/step - loss: 0.0662 - accuracy: 0.9810 - val_loss: 0.0773 - val_accuracy: 0.9709\n",
      "Epoch 46/100\n",
      "580/580 [==============================] - 0s 410us/step - loss: 0.0660 - accuracy: 0.9810 - val_loss: 0.0775 - val_accuracy: 0.9709\n",
      "Epoch 47/100\n",
      "580/580 [==============================] - 0s 395us/step - loss: 0.0659 - accuracy: 0.9810 - val_loss: 0.0768 - val_accuracy: 0.9709\n",
      "Epoch 48/100\n",
      "580/580 [==============================] - 0s 407us/step - loss: 0.0660 - accuracy: 0.9793 - val_loss: 0.0772 - val_accuracy: 0.9709\n",
      "Epoch 49/100\n",
      "580/580 [==============================] - 0s 428us/step - loss: 0.0661 - accuracy: 0.9810 - val_loss: 0.0770 - val_accuracy: 0.9709\n",
      "Epoch 50/100\n",
      "580/580 [==============================] - 0s 386us/step - loss: 0.0657 - accuracy: 0.9810 - val_loss: 0.0760 - val_accuracy: 0.9709\n",
      "Epoch 51/100\n",
      "580/580 [==============================] - 0s 412us/step - loss: 0.0662 - accuracy: 0.9810 - val_loss: 0.0760 - val_accuracy: 0.9709\n",
      "Epoch 52/100\n",
      "580/580 [==============================] - 0s 405us/step - loss: 0.0663 - accuracy: 0.9793 - val_loss: 0.0756 - val_accuracy: 0.9709\n",
      "Epoch 53/100\n",
      "580/580 [==============================] - 0s 409us/step - loss: 0.0660 - accuracy: 0.9810 - val_loss: 0.0759 - val_accuracy: 0.9709\n",
      "Epoch 54/100\n",
      "580/580 [==============================] - 0s 409us/step - loss: 0.0656 - accuracy: 0.9810 - val_loss: 0.0762 - val_accuracy: 0.9709\n",
      "Epoch 55/100\n",
      "580/580 [==============================] - 0s 400us/step - loss: 0.0655 - accuracy: 0.9810 - val_loss: 0.0760 - val_accuracy: 0.9709\n",
      "Epoch 56/100\n",
      "580/580 [==============================] - 0s 405us/step - loss: 0.0660 - accuracy: 0.9793 - val_loss: 0.0773 - val_accuracy: 0.9709\n"
     ]
    },
    {
     "name": "stdout",
     "output_type": "stream",
     "text": [
      "Epoch 57/100\n",
      "580/580 [==============================] - 0s 424us/step - loss: 0.0656 - accuracy: 0.9793 - val_loss: 0.0757 - val_accuracy: 0.9709\n",
      "Epoch 58/100\n",
      "580/580 [==============================] - 0s 438us/step - loss: 0.0655 - accuracy: 0.9810 - val_loss: 0.0761 - val_accuracy: 0.9709\n",
      "Epoch 59/100\n",
      "580/580 [==============================] - 0s 436us/step - loss: 0.0657 - accuracy: 0.9810 - val_loss: 0.0759 - val_accuracy: 0.9709\n",
      "Epoch 60/100\n",
      "580/580 [==============================] - 0s 409us/step - loss: 0.0654 - accuracy: 0.9810 - val_loss: 0.0757 - val_accuracy: 0.9709\n",
      "Epoch 61/100\n",
      "580/580 [==============================] - 0s 402us/step - loss: 0.0658 - accuracy: 0.9793 - val_loss: 0.0748 - val_accuracy: 0.9709\n",
      "Epoch 62/100\n",
      "580/580 [==============================] - 0s 403us/step - loss: 0.0655 - accuracy: 0.9793 - val_loss: 0.0754 - val_accuracy: 0.9709\n",
      "Epoch 63/100\n",
      "580/580 [==============================] - 0s 397us/step - loss: 0.0653 - accuracy: 0.9793 - val_loss: 0.0751 - val_accuracy: 0.9709\n",
      "Epoch 64/100\n",
      "580/580 [==============================] - 0s 405us/step - loss: 0.0653 - accuracy: 0.9793 - val_loss: 0.0752 - val_accuracy: 0.9709\n",
      "Epoch 65/100\n",
      "580/580 [==============================] - 0s 402us/step - loss: 0.0656 - accuracy: 0.9793 - val_loss: 0.0749 - val_accuracy: 0.9709\n",
      "Epoch 66/100\n",
      "580/580 [==============================] - 0s 414us/step - loss: 0.0654 - accuracy: 0.9793 - val_loss: 0.0750 - val_accuracy: 0.9709\n",
      "Epoch 67/100\n",
      "580/580 [==============================] - 0s 398us/step - loss: 0.0654 - accuracy: 0.9793 - val_loss: 0.0747 - val_accuracy: 0.9709\n",
      "Epoch 68/100\n",
      "580/580 [==============================] - 0s 372us/step - loss: 0.0653 - accuracy: 0.9793 - val_loss: 0.0748 - val_accuracy: 0.9709\n",
      "Epoch 69/100\n",
      "580/580 [==============================] - 0s 398us/step - loss: 0.0653 - accuracy: 0.9810 - val_loss: 0.0747 - val_accuracy: 0.9709\n",
      "Epoch 70/100\n",
      "580/580 [==============================] - 0s 386us/step - loss: 0.0653 - accuracy: 0.9793 - val_loss: 0.0744 - val_accuracy: 0.9709\n",
      "Epoch 71/100\n",
      "580/580 [==============================] - 0s 381us/step - loss: 0.0655 - accuracy: 0.9810 - val_loss: 0.0744 - val_accuracy: 0.9709\n",
      "Epoch 72/100\n",
      "580/580 [==============================] - 0s 419us/step - loss: 0.0655 - accuracy: 0.9793 - val_loss: 0.0748 - val_accuracy: 0.9709\n",
      "Epoch 73/100\n",
      "580/580 [==============================] - 0s 395us/step - loss: 0.0651 - accuracy: 0.9793 - val_loss: 0.0744 - val_accuracy: 0.9709\n",
      "Epoch 74/100\n",
      "580/580 [==============================] - 0s 376us/step - loss: 0.0654 - accuracy: 0.9793 - val_loss: 0.0742 - val_accuracy: 0.9709\n",
      "Epoch 75/100\n",
      "580/580 [==============================] - 0s 405us/step - loss: 0.0654 - accuracy: 0.9793 - val_loss: 0.0747 - val_accuracy: 0.9709\n",
      "Epoch 76/100\n",
      "580/580 [==============================] - 0s 398us/step - loss: 0.0653 - accuracy: 0.9793 - val_loss: 0.0743 - val_accuracy: 0.9709\n",
      "Epoch 77/100\n",
      "580/580 [==============================] - 0s 378us/step - loss: 0.0652 - accuracy: 0.9793 - val_loss: 0.0744 - val_accuracy: 0.9709\n",
      "Epoch 78/100\n",
      "580/580 [==============================] - 0s 372us/step - loss: 0.0654 - accuracy: 0.9793 - val_loss: 0.0743 - val_accuracy: 0.9709\n",
      "Epoch 79/100\n",
      "580/580 [==============================] - 0s 393us/step - loss: 0.0652 - accuracy: 0.9793 - val_loss: 0.0744 - val_accuracy: 0.9709\n",
      "Epoch 80/100\n",
      "580/580 [==============================] - 0s 374us/step - loss: 0.0651 - accuracy: 0.9793 - val_loss: 0.0747 - val_accuracy: 0.9709\n",
      "Epoch 81/100\n",
      "580/580 [==============================] - 0s 395us/step - loss: 0.0653 - accuracy: 0.9793 - val_loss: 0.0743 - val_accuracy: 0.9709\n",
      "Epoch 82/100\n",
      "580/580 [==============================] - 0s 372us/step - loss: 0.0652 - accuracy: 0.9793 - val_loss: 0.0748 - val_accuracy: 0.9709\n",
      "Epoch 83/100\n",
      "580/580 [==============================] - 0s 376us/step - loss: 0.0652 - accuracy: 0.9793 - val_loss: 0.0751 - val_accuracy: 0.9709\n",
      "Epoch 84/100\n",
      "580/580 [==============================] - 0s 384us/step - loss: 0.0651 - accuracy: 0.9793 - val_loss: 0.0740 - val_accuracy: 0.9709\n",
      "Epoch 85/100\n",
      "580/580 [==============================] - 0s 381us/step - loss: 0.0654 - accuracy: 0.9793 - val_loss: 0.0736 - val_accuracy: 0.9709\n",
      "Epoch 86/100\n",
      "580/580 [==============================] - 0s 393us/step - loss: 0.0651 - accuracy: 0.9793 - val_loss: 0.0744 - val_accuracy: 0.9709\n",
      "Epoch 87/100\n",
      "580/580 [==============================] - 0s 403us/step - loss: 0.0650 - accuracy: 0.9776 - val_loss: 0.0746 - val_accuracy: 0.9709\n",
      "Epoch 88/100\n",
      "580/580 [==============================] - 0s 424us/step - loss: 0.0650 - accuracy: 0.9793 - val_loss: 0.0743 - val_accuracy: 0.9709\n",
      "Epoch 89/100\n",
      "580/580 [==============================] - 0s 417us/step - loss: 0.0655 - accuracy: 0.9793 - val_loss: 0.0750 - val_accuracy: 0.9709\n",
      "Epoch 90/100\n",
      "580/580 [==============================] - 0s 388us/step - loss: 0.0650 - accuracy: 0.9793 - val_loss: 0.0738 - val_accuracy: 0.9709\n",
      "Epoch 91/100\n",
      "580/580 [==============================] - 0s 376us/step - loss: 0.0650 - accuracy: 0.9793 - val_loss: 0.0741 - val_accuracy: 0.9709\n",
      "Epoch 92/100\n",
      "580/580 [==============================] - 0s 384us/step - loss: 0.0649 - accuracy: 0.9793 - val_loss: 0.0741 - val_accuracy: 0.9709\n",
      "Epoch 93/100\n",
      "580/580 [==============================] - 0s 381us/step - loss: 0.0650 - accuracy: 0.9793 - val_loss: 0.0744 - val_accuracy: 0.9709\n",
      "Epoch 94/100\n",
      "580/580 [==============================] - 0s 383us/step - loss: 0.0648 - accuracy: 0.9793 - val_loss: 0.0740 - val_accuracy: 0.9709\n",
      "Epoch 95/100\n",
      "580/580 [==============================] - 0s 397us/step - loss: 0.0649 - accuracy: 0.9793 - val_loss: 0.0746 - val_accuracy: 0.9709\n",
      "Epoch 96/100\n",
      "580/580 [==============================] - 0s 400us/step - loss: 0.0650 - accuracy: 0.9793 - val_loss: 0.0740 - val_accuracy: 0.9709\n",
      "Epoch 97/100\n",
      "580/580 [==============================] - 0s 422us/step - loss: 0.0652 - accuracy: 0.9793 - val_loss: 0.0737 - val_accuracy: 0.9709\n",
      "Epoch 98/100\n",
      "580/580 [==============================] - 0s 402us/step - loss: 0.0648 - accuracy: 0.9793 - val_loss: 0.0741 - val_accuracy: 0.9709\n",
      "Epoch 99/100\n",
      "580/580 [==============================] - 0s 412us/step - loss: 0.0649 - accuracy: 0.9793 - val_loss: 0.0748 - val_accuracy: 0.9709\n",
      "Epoch 100/100\n",
      "580/580 [==============================] - 0s 383us/step - loss: 0.0651 - accuracy: 0.9776 - val_loss: 0.0746 - val_accuracy: 0.9709\n"
     ]
    }
   ],
   "source": [
    "history = model.fit(X_train, y_train, batch_size = 5, epochs = 100, validation_data=(X_test, y_test))"
   ]
  },
  {
   "cell_type": "markdown",
   "metadata": {},
   "source": [
    "From our results above, we were able to achieve 97% of validation score. \n",
    "I am fairly confident our model can accurately classify between a benign \n",
    "or malignant cases given a new data. "
   ]
  },
  {
   "cell_type": "code",
   "execution_count": 20,
   "metadata": {},
   "outputs": [
    {
     "data": {
      "text/plain": [
       "array([[ 1.9967197 ,  2.20519765,  0.93821373, ...,  0.22275834,\n",
       "         0.01546113,  0.23858226],\n",
       "       [-0.14064867, -0.69725614, -0.73613693, ..., -0.18353046,\n",
       "        -0.6250714 , -0.33799154],\n",
       "       [-1.20933285, -0.69725614, -0.73613693, ..., -0.99610807,\n",
       "        -0.6250714 , -0.33799154],\n",
       "       ...,\n",
       "       [-1.20933285, -0.69725614, -0.73613693, ..., -0.99610807,\n",
       "        -0.6250714 , -0.33799154],\n",
       "       [-0.49687673, -0.69725614, -0.73613693, ..., -0.58981926,\n",
       "        -0.6250714 , -0.33799154],\n",
       "       [ 1.9967197 ,  1.88270278,  1.27308387, ...,  1.44162475,\n",
       "         1.2965262 , -0.33799154]])"
      ]
     },
     "execution_count": 20,
     "metadata": {},
     "output_type": "execute_result"
    }
   ],
   "source": [
    "X_train"
   ]
  },
  {
   "cell_type": "code",
   "execution_count": 21,
   "metadata": {},
   "outputs": [
    {
     "data": {
      "text/plain": [
       "array([1, 0, 0, 1, 1, 0, 0, 1, 0, 0, 1, 0, 0, 0, 1, 0, 0, 0, 1, 0, 0, 1,\n",
       "       1, 0, 1, 0, 1, 0, 0, 1, 0, 0, 1, 0, 1, 0, 0, 0, 1, 0, 0, 0, 0, 1,\n",
       "       0, 1, 0, 1, 1, 0, 0, 0, 0, 1, 1, 0, 1, 1, 1, 1, 1, 1, 0, 0, 0, 0,\n",
       "       0, 0, 1, 1, 1, 0, 0, 0, 1, 0, 0, 1, 1, 0, 1, 0, 0, 1, 1, 0, 0, 0,\n",
       "       0, 0, 0, 0, 0, 0, 0, 1, 0, 0, 0, 0, 0, 1, 1, 0, 1, 0, 0, 0, 1, 0,\n",
       "       0, 0, 0, 1, 1, 0, 0, 1, 1, 0, 0, 1, 1, 0, 1, 0, 1, 1, 0, 0, 0, 1,\n",
       "       0, 1, 0, 1, 0, 0, 0, 0, 0, 1, 0, 0, 1, 0, 0, 1, 0, 0, 0, 0, 0, 1,\n",
       "       0, 0, 1, 0, 1, 0, 0, 1, 1, 1, 0, 0, 0, 0, 0, 0, 1, 1, 0, 0, 0, 0,\n",
       "       0, 0, 0, 1, 0, 0, 1, 0, 0, 0, 0, 0, 0, 0, 1, 0, 0, 0, 1, 1, 0, 1,\n",
       "       0, 0, 0, 1, 0, 0, 0, 1, 1, 0, 1, 0, 0, 1, 0, 0, 0, 0, 0, 0, 0, 1,\n",
       "       1, 1, 1, 0, 1, 0, 1, 0, 1, 1, 1, 0, 0, 1, 0, 0, 0, 0, 1, 1, 0, 0,\n",
       "       0, 1, 0, 0, 1, 0, 0, 0, 0, 1, 1, 0, 0, 0, 0, 0, 0, 0, 0, 0, 0, 0,\n",
       "       1, 0, 1, 0, 0, 0, 0, 0, 0, 1, 1, 1, 1, 0, 0, 1, 0, 1, 0, 1, 0, 0,\n",
       "       0, 0, 1, 0, 1, 0, 0, 0, 0, 1, 0, 0, 1, 0, 0, 0, 0, 0, 0, 0, 1, 0,\n",
       "       1, 0, 0, 0, 1, 0, 0, 0, 0, 0, 1, 0, 0, 0, 0, 1, 0, 0, 1, 0, 0, 0,\n",
       "       0, 1, 1, 0, 0, 0, 0, 1, 0, 0, 1, 0, 0, 0, 0, 1, 1, 0, 1, 0, 1, 0,\n",
       "       0, 0, 1, 1, 1, 0, 0, 0, 0, 0, 0, 0, 0, 1, 1, 0, 0, 0, 0, 0, 0, 0,\n",
       "       1, 1, 0, 0, 0, 0, 1, 1, 1, 0, 1, 0, 1, 0, 0, 0, 0, 0, 1, 0, 1, 1,\n",
       "       0, 0, 0, 0, 0, 0, 0, 1, 0, 0, 0, 1, 0, 0, 1, 1, 1, 0, 1, 1, 1, 0,\n",
       "       0, 0, 1, 0, 1, 0, 0, 1, 0, 1, 1, 1, 0, 0, 0, 1, 0, 1, 1, 1, 0, 0,\n",
       "       0, 1, 0, 1, 0, 0, 0, 0, 1, 1, 0, 0, 0, 1, 1, 0, 0, 1, 0, 0, 0, 1,\n",
       "       1, 0, 0, 0, 1, 0, 0, 0, 1, 0, 1, 0, 0, 1, 0, 0, 0, 0, 1, 1, 0, 0,\n",
       "       1, 1, 0, 0, 1, 1, 1, 0, 0, 1, 0, 0, 0, 0, 0, 1, 0, 1, 1, 0, 0, 0,\n",
       "       0, 1, 0, 0, 0, 0, 1, 0, 1, 0, 1, 0, 0, 1, 0, 0, 0, 0, 1, 0, 0, 0,\n",
       "       1, 0, 0, 1, 1, 1, 1, 0, 1, 1, 0, 1, 1, 0, 0, 0, 0, 0, 0, 1, 0, 0,\n",
       "       0, 0, 1, 1, 0, 1, 1, 1, 0, 0, 1, 1, 0, 0, 0, 0, 0, 0, 1, 0, 0, 1,\n",
       "       0, 0, 1, 0, 0, 0, 0, 1])"
      ]
     },
     "execution_count": 21,
     "metadata": {},
     "output_type": "execute_result"
    }
   ],
   "source": [
    "y_train"
   ]
  },
  {
   "cell_type": "code",
   "execution_count": null,
   "metadata": {},
   "outputs": [],
   "source": []
  }
 ],
 "metadata": {
  "kernelspec": {
   "display_name": "Python 3",
   "language": "python",
   "name": "python3"
  },
  "language_info": {
   "codemirror_mode": {
    "name": "ipython",
    "version": 3
   },
   "file_extension": ".py",
   "mimetype": "text/x-python",
   "name": "python",
   "nbconvert_exporter": "python",
   "pygments_lexer": "ipython3",
   "version": "3.7.1"
  }
 },
 "nbformat": 4,
 "nbformat_minor": 2
}
