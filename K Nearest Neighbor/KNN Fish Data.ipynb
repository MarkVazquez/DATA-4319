{
 "cells": [
  {
   "cell_type": "markdown",
   "metadata": {},
   "source": [
    "### K Nearest Neighbors"
   ]
  },
  {
   "cell_type": "markdown",
   "metadata": {},
   "source": [
    "Based on the chosen distance metric, the KNN algorithm finds the k samples in the\n",
    "training dataset that are closest (most similar) to the point that we want to classify.\n",
    "The class label of the new data point is then determined by a majority vote among its\n",
    "k nearest neighbors."
   ]
  },
  {
   "cell_type": "markdown",
   "metadata": {},
   "source": [
    "<img src=\"Images/knn_ex.PNG\" width=\"400\" />"
   ]
  },
  {
   "cell_type": "code",
   "execution_count": 1,
   "metadata": {},
   "outputs": [
    {
     "name": "stderr",
     "output_type": "stream",
     "text": [
      "┌ Info: Precompiling CSV [336ed68f-0bac-5ca0-87d4-7b16caf5d00b]\n",
      "└ @ Base loading.jl:1273\n",
      "┌ Info: Precompiling Plots [91a5bcdd-55d7-5caf-9e0b-520d859cae80]\n",
      "└ @ Base loading.jl:1273\n"
     ]
    }
   ],
   "source": [
    "\n",
    "using LinearAlgebra, CSV, Plots\n",
    "theme(:dark)\n"
   ]
  },
  {
   "cell_type": "markdown",
   "metadata": {},
   "source": [
    "### Data"
   ]
  },
  {
   "cell_type": "code",
   "execution_count": 5,
   "metadata": {},
   "outputs": [],
   "source": [
    "fish = CSV.read(\"qsar_fish_toxicity.csv\"; delim=';', header =[\"CIC0\",\n",
    "        \"SM1_Dz\", \"GATS1i\", \"NdsCH\", \"NdssC\", \"MLOGP\",  \"LC50\"]);"
   ]
  },
  {
   "cell_type": "code",
   "execution_count": 6,
   "metadata": {},
   "outputs": [
    {
     "data": {
      "text/html": [
       "<table class=\"data-frame\"><thead><tr><th></th><th>CIC0</th><th>SM1_Dz</th><th>GATS1i</th><th>NdsCH</th><th>NdssC</th><th>MLOGP</th><th>LC50</th></tr><tr><th></th><th>Float64</th><th>Float64</th><th>Float64</th><th>Int64</th><th>Int64</th><th>Float64</th><th>Float64</th></tr></thead><tbody><p>908 rows × 7 columns</p><tr><th>1</th><td>3.26</td><td>0.829</td><td>1.676</td><td>0</td><td>1</td><td>1.453</td><td>3.77</td></tr><tr><th>2</th><td>2.189</td><td>0.58</td><td>0.863</td><td>0</td><td>0</td><td>1.348</td><td>3.115</td></tr><tr><th>3</th><td>2.125</td><td>0.638</td><td>0.831</td><td>0</td><td>0</td><td>1.348</td><td>3.531</td></tr><tr><th>4</th><td>3.027</td><td>0.331</td><td>1.472</td><td>1</td><td>0</td><td>1.807</td><td>3.51</td></tr><tr><th>5</th><td>2.094</td><td>0.827</td><td>0.86</td><td>0</td><td>0</td><td>1.886</td><td>5.39</td></tr><tr><th>6</th><td>3.222</td><td>0.331</td><td>2.177</td><td>0</td><td>0</td><td>0.706</td><td>1.819</td></tr><tr><th>7</th><td>3.179</td><td>0.0</td><td>1.063</td><td>0</td><td>0</td><td>2.942</td><td>3.947</td></tr><tr><th>8</th><td>3.0</td><td>0.0</td><td>0.938</td><td>1</td><td>0</td><td>2.851</td><td>3.513</td></tr><tr><th>9</th><td>2.62</td><td>0.499</td><td>0.99</td><td>0</td><td>0</td><td>2.942</td><td>4.402</td></tr><tr><th>10</th><td>2.834</td><td>0.134</td><td>0.95</td><td>0</td><td>0</td><td>1.591</td><td>3.021</td></tr><tr><th>11</th><td>2.405</td><td>0.134</td><td>0.843</td><td>0</td><td>0</td><td>1.769</td><td>3.21</td></tr><tr><th>12</th><td>2.728</td><td>0.223</td><td>0.953</td><td>0</td><td>0</td><td>1.591</td><td>2.371</td></tr><tr><th>13</th><td>2.512</td><td>0.223</td><td>0.929</td><td>1</td><td>0</td><td>1.769</td><td>3.919</td></tr><tr><th>14</th><td>2.834</td><td>0.134</td><td>1.237</td><td>0</td><td>0</td><td>1.859</td><td>3.03</td></tr><tr><th>15</th><td>2.819</td><td>0.331</td><td>1.271</td><td>0</td><td>1</td><td>0.981</td><td>2.736</td></tr><tr><th>16</th><td>2.126</td><td>0.251</td><td>1.114</td><td>0</td><td>0</td><td>0.143</td><td>2.157</td></tr><tr><th>17</th><td>2.834</td><td>0.134</td><td>1.322</td><td>0</td><td>0</td><td>1.199</td><td>2.413</td></tr><tr><th>18</th><td>3.014</td><td>0.56</td><td>1.781</td><td>0</td><td>0</td><td>-0.115</td><td>0.898</td></tr><tr><th>19</th><td>3.024</td><td>0.452</td><td>2.698</td><td>0</td><td>0</td><td>1.107</td><td>0.45</td></tr><tr><th>20</th><td>3.036</td><td>0.405</td><td>1.205</td><td>1</td><td>0</td><td>1.807</td><td>3.733</td></tr><tr><th>21</th><td>2.707</td><td>0.972</td><td>1.889</td><td>0</td><td>3</td><td>-1.169</td><td>2.976</td></tr><tr><th>22</th><td>2.978</td><td>1.246</td><td>1.103</td><td>0</td><td>1</td><td>3.988</td><td>6.535</td></tr><tr><th>23</th><td>3.111</td><td>0.732</td><td>0.923</td><td>0</td><td>0</td><td>4.068</td><td>5.643</td></tr><tr><th>24</th><td>3.315</td><td>0.223</td><td>0.96</td><td>0</td><td>0</td><td>3.395</td><td>4.629</td></tr><tr><th>25</th><td>2.71</td><td>0.93</td><td>0.724</td><td>0</td><td>0</td><td>2.526</td><td>4.838</td></tr><tr><th>26</th><td>3.326</td><td>0.647</td><td>0.986</td><td>0</td><td>1</td><td>3.112</td><td>4.081</td></tr><tr><th>27</th><td>3.332</td><td>0.134</td><td>1.294</td><td>0</td><td>0</td><td>2.51</td><td>3.436</td></tr><tr><th>28</th><td>3.896</td><td>0.134</td><td>1.984</td><td>0</td><td>0</td><td>2.591</td><td>3.45</td></tr><tr><th>29</th><td>3.155</td><td>0.638</td><td>2.128</td><td>0</td><td>0</td><td>-0.937</td><td>1.102</td></tr><tr><th>30</th><td>2.479</td><td>0.887</td><td>0.954</td><td>0</td><td>0</td><td>1.748</td><td>4.257</td></tr><tr><th>&vellip;</th><td>&vellip;</td><td>&vellip;</td><td>&vellip;</td><td>&vellip;</td><td>&vellip;</td><td>&vellip;</td><td>&vellip;</td></tr></tbody></table>"
      ],
      "text/latex": [
       "\\begin{tabular}{r|ccccccc}\n",
       "\t& CIC0 & SM1\\_Dz & GATS1i & NdsCH & NdssC & MLOGP & LC50\\\\\n",
       "\t\\hline\n",
       "\t& Float64 & Float64 & Float64 & Int64 & Int64 & Float64 & Float64\\\\\n",
       "\t\\hline\n",
       "\t1 & 3.26 & 0.829 & 1.676 & 0 & 1 & 1.453 & 3.77 \\\\\n",
       "\t2 & 2.189 & 0.58 & 0.863 & 0 & 0 & 1.348 & 3.115 \\\\\n",
       "\t3 & 2.125 & 0.638 & 0.831 & 0 & 0 & 1.348 & 3.531 \\\\\n",
       "\t4 & 3.027 & 0.331 & 1.472 & 1 & 0 & 1.807 & 3.51 \\\\\n",
       "\t5 & 2.094 & 0.827 & 0.86 & 0 & 0 & 1.886 & 5.39 \\\\\n",
       "\t6 & 3.222 & 0.331 & 2.177 & 0 & 0 & 0.706 & 1.819 \\\\\n",
       "\t7 & 3.179 & 0.0 & 1.063 & 0 & 0 & 2.942 & 3.947 \\\\\n",
       "\t8 & 3.0 & 0.0 & 0.938 & 1 & 0 & 2.851 & 3.513 \\\\\n",
       "\t9 & 2.62 & 0.499 & 0.99 & 0 & 0 & 2.942 & 4.402 \\\\\n",
       "\t10 & 2.834 & 0.134 & 0.95 & 0 & 0 & 1.591 & 3.021 \\\\\n",
       "\t11 & 2.405 & 0.134 & 0.843 & 0 & 0 & 1.769 & 3.21 \\\\\n",
       "\t12 & 2.728 & 0.223 & 0.953 & 0 & 0 & 1.591 & 2.371 \\\\\n",
       "\t13 & 2.512 & 0.223 & 0.929 & 1 & 0 & 1.769 & 3.919 \\\\\n",
       "\t14 & 2.834 & 0.134 & 1.237 & 0 & 0 & 1.859 & 3.03 \\\\\n",
       "\t15 & 2.819 & 0.331 & 1.271 & 0 & 1 & 0.981 & 2.736 \\\\\n",
       "\t16 & 2.126 & 0.251 & 1.114 & 0 & 0 & 0.143 & 2.157 \\\\\n",
       "\t17 & 2.834 & 0.134 & 1.322 & 0 & 0 & 1.199 & 2.413 \\\\\n",
       "\t18 & 3.014 & 0.56 & 1.781 & 0 & 0 & -0.115 & 0.898 \\\\\n",
       "\t19 & 3.024 & 0.452 & 2.698 & 0 & 0 & 1.107 & 0.45 \\\\\n",
       "\t20 & 3.036 & 0.405 & 1.205 & 1 & 0 & 1.807 & 3.733 \\\\\n",
       "\t21 & 2.707 & 0.972 & 1.889 & 0 & 3 & -1.169 & 2.976 \\\\\n",
       "\t22 & 2.978 & 1.246 & 1.103 & 0 & 1 & 3.988 & 6.535 \\\\\n",
       "\t23 & 3.111 & 0.732 & 0.923 & 0 & 0 & 4.068 & 5.643 \\\\\n",
       "\t24 & 3.315 & 0.223 & 0.96 & 0 & 0 & 3.395 & 4.629 \\\\\n",
       "\t25 & 2.71 & 0.93 & 0.724 & 0 & 0 & 2.526 & 4.838 \\\\\n",
       "\t26 & 3.326 & 0.647 & 0.986 & 0 & 1 & 3.112 & 4.081 \\\\\n",
       "\t27 & 3.332 & 0.134 & 1.294 & 0 & 0 & 2.51 & 3.436 \\\\\n",
       "\t28 & 3.896 & 0.134 & 1.984 & 0 & 0 & 2.591 & 3.45 \\\\\n",
       "\t29 & 3.155 & 0.638 & 2.128 & 0 & 0 & -0.937 & 1.102 \\\\\n",
       "\t30 & 2.479 & 0.887 & 0.954 & 0 & 0 & 1.748 & 4.257 \\\\\n",
       "\t$\\dots$ & $\\dots$ & $\\dots$ & $\\dots$ & $\\dots$ & $\\dots$ & $\\dots$ & $\\dots$ \\\\\n",
       "\\end{tabular}\n"
      ],
      "text/plain": [
       "908×7 DataFrames.DataFrame\n",
       "│ Row │ CIC0    │ SM1_Dz  │ GATS1i  │ NdsCH │ NdssC │ MLOGP   │ LC50    │\n",
       "│     │ \u001b[90mFloat64\u001b[39m │ \u001b[90mFloat64\u001b[39m │ \u001b[90mFloat64\u001b[39m │ \u001b[90mInt64\u001b[39m │ \u001b[90mInt64\u001b[39m │ \u001b[90mFloat64\u001b[39m │ \u001b[90mFloat64\u001b[39m │\n",
       "├─────┼─────────┼─────────┼─────────┼───────┼───────┼─────────┼─────────┤\n",
       "│ 1   │ 3.26    │ 0.829   │ 1.676   │ 0     │ 1     │ 1.453   │ 3.77    │\n",
       "│ 2   │ 2.189   │ 0.58    │ 0.863   │ 0     │ 0     │ 1.348   │ 3.115   │\n",
       "│ 3   │ 2.125   │ 0.638   │ 0.831   │ 0     │ 0     │ 1.348   │ 3.531   │\n",
       "│ 4   │ 3.027   │ 0.331   │ 1.472   │ 1     │ 0     │ 1.807   │ 3.51    │\n",
       "│ 5   │ 2.094   │ 0.827   │ 0.86    │ 0     │ 0     │ 1.886   │ 5.39    │\n",
       "│ 6   │ 3.222   │ 0.331   │ 2.177   │ 0     │ 0     │ 0.706   │ 1.819   │\n",
       "│ 7   │ 3.179   │ 0.0     │ 1.063   │ 0     │ 0     │ 2.942   │ 3.947   │\n",
       "│ 8   │ 3.0     │ 0.0     │ 0.938   │ 1     │ 0     │ 2.851   │ 3.513   │\n",
       "│ 9   │ 2.62    │ 0.499   │ 0.99    │ 0     │ 0     │ 2.942   │ 4.402   │\n",
       "│ 10  │ 2.834   │ 0.134   │ 0.95    │ 0     │ 0     │ 1.591   │ 3.021   │\n",
       "⋮\n",
       "│ 898 │ 3.101   │ 1.535   │ 1.326   │ 0     │ 1     │ 1.655   │ 6.238   │\n",
       "│ 899 │ 3.599   │ 0.702   │ 1.514   │ 2     │ 1     │ 3.247   │ 6.183   │\n",
       "│ 900 │ 2.986   │ 0.961   │ 1.669   │ 0     │ 4     │ 1.798   │ 3.152   │\n",
       "│ 901 │ 2.804   │ 1.11    │ 0.618   │ 0     │ 6     │ 1.317   │ 6.254   │\n",
       "│ 902 │ 3.67    │ 0.728   │ 2.11    │ 0     │ 3     │ 2.288   │ 2.964   │\n",
       "│ 903 │ 3.475   │ 0.405   │ 0.875   │ 1     │ 2     │ 3.148   │ 4.803   │\n",
       "│ 904 │ 2.801   │ 0.728   │ 2.226   │ 0     │ 2     │ 0.736   │ 3.109   │\n",
       "│ 905 │ 3.652   │ 0.872   │ 0.867   │ 2     │ 3     │ 3.983   │ 4.04    │\n",
       "│ 906 │ 3.763   │ 0.916   │ 0.878   │ 0     │ 6     │ 2.918   │ 4.818   │\n",
       "│ 907 │ 2.831   │ 1.393   │ 1.077   │ 0     │ 1     │ 0.906   │ 5.317   │\n",
       "│ 908 │ 4.057   │ 1.032   │ 1.183   │ 1     │ 3     │ 4.754   │ 8.201   │"
      ]
     },
     "execution_count": 6,
     "metadata": {},
     "output_type": "execute_result"
    }
   ],
   "source": [
    "fish"
   ]
  },
  {
   "cell_type": "code",
   "execution_count": 7,
   "metadata": {},
   "outputs": [],
   "source": [
    "X_data = [x for x in zip(fish.CIC0, fish.SM1_Dz, fish.GATS1i, fish.NdsCH, fish.NdssC, fish.MLOGP)]\n",
    "Y_data = [x for x in fish. LC50];"
   ]
  },
  {
   "cell_type": "markdown",
   "metadata": {},
   "source": [
    "$$d\\left(\\boldsymbol{x}^{(i)}, \\boldsymbol{x}^{(j)}\\right)=\\sqrt{\\sum_{k}\\left|x_{k}^{(j)}-x_{k}^{(j)}\\right|^{P}}$$"
   ]
  },
  {
   "cell_type": "code",
   "execution_count": 8,
   "metadata": {},
   "outputs": [
    {
     "name": "stdout",
     "output_type": "stream",
     "text": [
      "The distance between (3.26, 0.829, 1.676, 0, 1, 1.453) and(4.171, 0.693, 1.678, 0, 2, 2.849) is 1.948650045544351\n",
      "  0.000031 seconds (37 allocations: 1.563 KiB)\n"
     ]
    },
    {
     "data": {
      "text/plain": [
       "1.948650045544351"
      ]
     },
     "execution_count": 8,
     "metadata": {},
     "output_type": "execute_result"
    }
   ],
   "source": [
    "# Define the Euclidean distance formula as a function\n",
    "function euclidean_distance(p1::Tuple{Float64,Float64,Float64,Int64,Int64,Float64}, \n",
    "                            p2::Tuple{Float64,Float64,Float64,Int64,Int64,Float64})::Float64\n",
    "    return sqrt(sum([(p1[i] - p2[i])^2 for i = 1:length(p1)]))\n",
    "end\n",
    "\n",
    "# Test the function euclidean_distance to make sure it works!\n",
    "print(\"The distance between \", X_data[1],\" and\", X_data[50])\n",
    "println(\" is \", euclidean_distance(X_data[1], X_data[50]))\n",
    "@time euclidean_distance(X_data[1], X_data[50])"
   ]
  },
  {
   "cell_type": "code",
   "execution_count": 13,
   "metadata": {},
   "outputs": [
    {
     "name": "stdout",
     "output_type": "stream",
     "text": [
      "\n",
      "Target Point P = (2.665, 0.251, 1.762, 0, 0, -0.534)\n",
      "k = 5\n",
      "_________________________________________________\n",
      "Point 1 = (2.377, 0.331, 1.734, 0, 0, -0.534)\n",
      "Point Label = 1.474\n",
      "Point Distance = 0.3002132575353729\n",
      "\n",
      "Point 2 = (2.366, 0.405, 1.735, 0, 0, -0.534)\n",
      "Point Label = 0.242\n",
      "Point Distance = 0.337410728934336\n",
      "\n",
      "Point 3 = (2.429, 0.405, 1.954, 0, 0, -0.473)\n",
      "Point Label = 0.931\n",
      "Point Distance = 0.34640583135969305\n",
      "\n",
      "Point 4 = (2.377, 0.331, 2.111, 0, 0, -0.534)\n",
      "Point Label = 2.156\n",
      "Point Distance = 0.4595051686325196\n",
      "\n",
      "Point 5 = (2.983, 0.496, 2.106, 0, 0, -0.521)\n",
      "Point Label = 1.68\n",
      "Point Distance = 0.5288232218804313\n",
      "______________________________________________\n",
      "\n"
     ]
    }
   ],
   "source": [
    "function k_nearest_neighbors(p, X, Y, k::Int64)\n",
    "    # Calculate the distance between p and all other points in X\n",
    "    distance_array = [(X[i], Y[i], euclidean_distance(p, X[i])) \n",
    "                      for i = 1:length(X)\n",
    "                      if X[i] != p\n",
    "                      ]\n",
    "    # Sort the distance array in ascending order according to distance\n",
    "    sort!(distance_array, by = x -> x[3])     # Python = distance_array.sort(key = lambda x : x[2])\n",
    "    \n",
    "    # Return the first k entries from the sorted distance array \n",
    "    return distance_array[1:k]                # Python = distance_array[0:k-1]\n",
    "end \n",
    "\n",
    "# Test the k_nearest_neighbors function\n",
    "test = k_nearest_neighbors(X_data[120], X_data, Y_data, 5)\n",
    "println(\"\")\n",
    "println(\"Target Point P = \", X_data[120])\n",
    "println(\"k = \", 5)\n",
    "println(\"_________________________________________________\")\n",
    "for i = 1:length(test)\n",
    "    println(\"Point $i = \", test[i][1])\n",
    "    println(\"Point Label = \", test[i][2])\n",
    "    println(\"Point Distance = \", test[i][3])\n",
    "    if i != length(test)\n",
    "        println(\"\")\n",
    "    else\n",
    "      println(\"______________________________________________\")  \n",
    "    end\n",
    "end\n",
    "println(\"\")"
   ]
  },
  {
   "cell_type": "code",
   "execution_count": 10,
   "metadata": {},
   "outputs": [
    {
     "data": {
      "text/plain": [
       "more_like_this (generic function with 1 method)"
      ]
     },
     "execution_count": 10,
     "metadata": {},
     "output_type": "execute_result"
    }
   ],
   "source": [
    "function more_like_this(fish_LC50, X, Y, k)\n",
    "    \n",
    "    for i = 1:length(Y)\n",
    "        if Y[i] == fish_LC50\n",
    "            L = k_nearest_neighbors(X[i], X, Y, k)\n",
    "            println(\"The top $k similar qualitative Response with LC50: $fish_LC50 are:\")\n",
    "            for j = 1:k\n",
    "                println(\"$j. \", L[j][2])\n",
    "            end\n",
    "        end\n",
    "    end\n",
    "end\n"
   ]
  },
  {
   "cell_type": "code",
   "execution_count": 11,
   "metadata": {},
   "outputs": [
    {
     "name": "stdout",
     "output_type": "stream",
     "text": [
      "The top 5 similar qualitative Response with LC50: 6.535 are:\n",
      "1. 6.564\n",
      "2. 5.039\n",
      "3. 5.048\n",
      "4. 6.077\n",
      "5. 4.828\n"
     ]
    }
   ],
   "source": [
    "more_like_this(6.535, X_data, Y_data, 5)"
   ]
  },
  {
   "cell_type": "code",
   "execution_count": null,
   "metadata": {},
   "outputs": [],
   "source": []
  }
 ],
 "metadata": {
  "kernelspec": {
   "display_name": "Julia 1.3.1",
   "language": "julia",
   "name": "julia-1.3"
  },
  "language_info": {
   "file_extension": ".jl",
   "mimetype": "application/julia",
   "name": "julia",
   "version": "1.3.1"
  }
 },
 "nbformat": 4,
 "nbformat_minor": 2
}
